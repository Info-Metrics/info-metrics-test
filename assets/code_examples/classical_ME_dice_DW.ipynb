{
 "cells": [
  {
   "cell_type": "code",
   "execution_count": 11,
   "metadata": {},
   "outputs": [],
   "source": [
    "from __future__ import division # force floating point division\n",
    "\n",
    "# 3rd party libraries\n",
    "import numpy as np\n",
    "import matplotlib.pyplot as plt\n",
    "import scipy as sp\n",
    "from scipy import stats, optimize\n",
    "\n",
    "# set a seed for the random number generator\n",
    "np.random.seed(12345)"
   ]
  },
  {
   "cell_type": "markdown",
   "metadata": {},
   "source": [
    "# Classical MaxEnt (no prior distribution)"
   ]
  },
  {
   "cell_type": "code",
   "execution_count": 12,
   "metadata": {},
   "outputs": [
    {
     "data": {
      "text/plain": [
       "[1.0, 2.0, 3.0, 4.0, 5.0, 6.0]"
      ]
     },
     "execution_count": 12,
     "metadata": {},
     "output_type": "execute_result"
    }
   ],
   "source": [
    "# Create the x's\n",
    "x = [1.0, 2.0, 3.0, 4.0, 5.0, 6.0]\n",
    "x"
   ]
  },
  {
   "cell_type": "code",
   "execution_count": 13,
   "metadata": {},
   "outputs": [],
   "source": [
    "# Define the objective\n",
    "def obj(p):\n",
    "    return -1*sp.stats.entropy(p)"
   ]
  },
  {
   "cell_type": "code",
   "execution_count": 28,
   "metadata": {},
   "outputs": [
    {
     "name": "stdout",
     "output_type": "stream",
     "text": [
      "[2, 3.5, 5]\n"
     ]
    }
   ],
   "source": [
    "# Interested in various values of y (the observed mean)\n",
    "list = [2, 3.5, 5]\n",
    "print(list)"
   ]
  },
  {
   "cell_type": "code",
   "execution_count": 29,
   "metadata": {},
   "outputs": [
    {
     "name": "stdout",
     "output_type": "stream",
     "text": [
      "[0.47810004 0.2547626  0.13575403 0.07232301 0.0385413  0.02051902]\n",
      "[0.16666667 0.16666667 0.16666667 0.16666667 0.16666667 0.16666667]\n",
      "[0.02051902 0.0385413  0.07232301 0.13575403 0.2547626  0.47810004]\n"
     ]
    },
    {
     "data": {
      "image/png": "[encoded data removed]",
      "text/plain": [
       "<Figure size 432x288 with 1 Axes>"
      ]
     },
     "metadata": {
      "needs_background": "light"
     },
     "output_type": "display_data"
    }
   ],
   "source": [
    "# Run: \n",
    "for y in list:\n",
    "# constraints\n",
    "    cons = ({'type': 'eq',\n",
    "            'fun': lambda p: (sum(p)-1)},\n",
    "           {'type': 'eq',\n",
    "           'fun': lambda p: (sum([j*k for j,k in zip(x,p)])-y)})\n",
    "    # optimize and save results\n",
    "    results = sp.optimize.minimize(fun = obj, x0 = [1/6]*6, constraints = cons, bounds=((0,1),)*6)\n",
    "    # the values of the arguments that maximize the objective are saved in results.x\n",
    "    # since these are our probabilities, call this p\n",
    "    p = results.x\n",
    "    print(p)\n",
    "    plt.plot(x, p, 'o--', label = 'y = {}'.format(y))\n",
    "    "
   ]
  },
  {
   "cell_type": "code",
   "execution_count": null,
   "metadata": {},
   "outputs": [],
   "source": []
  }
 ],
 "metadata": {
  "kernelspec": {
   "display_name": "Python 3",
   "language": "python",
   "name": "python3"
  },
  "language_info": {
   "codemirror_mode": {
    "name": "ipython",
    "version": 3
   },
   "file_extension": ".py",
   "mimetype": "text/x-python",
   "name": "python",
   "nbconvert_exporter": "python",
   "pygments_lexer": "ipython3",
   "version": "3.8.8"
  }
 },
 "nbformat": 4,
 "nbformat_minor": 2
}
