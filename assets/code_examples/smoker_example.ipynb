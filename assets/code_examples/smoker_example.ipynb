{
 "cells": [
  {
   "cell_type": "code",
   "execution_count": 1,
   "metadata": {},
   "outputs": [],
   "source": [
    "import pandas as pd\n",
    "import numpy as np\n",
    "import statsmodels.api as sm\n",
    "from statsmodels.discrete.discrete_model import Probit, Logit\n",
    "from scipy import stats\n",
    "from gme import GMELogit"
   ]
  },
  {
   "cell_type": "code",
   "execution_count": 2,
   "metadata": {},
   "outputs": [],
   "source": [
    "# Read the data\n",
    "# Note: You'll need to change the file path to match your system\n",
    "data = pd.read_excel(\"../../data/smoking.xls\", index_col = 0)"
   ]
  },
  {
   "cell_type": "code",
   "execution_count": 3,
   "metadata": {},
   "outputs": [
    {
     "data": {
      "text/html": [
       "<div>\n",
       "<style scoped>\n",
       "    .dataframe tbody tr th:only-of-type {\n",
       "        vertical-align: middle;\n",
       "    }\n",
       "\n",
       "    .dataframe tbody tr th {\n",
       "        vertical-align: top;\n",
       "    }\n",
       "\n",
       "    .dataframe thead th {\n",
       "        text-align: right;\n",
       "    }\n",
       "</style>\n",
       "<table border=\"1\" class=\"dataframe\">\n",
       "  <thead>\n",
       "    <tr style=\"text-align: right;\">\n",
       "      <th></th>\n",
       "      <th>smoker</th>\n",
       "      <th>smkban</th>\n",
       "      <th>age</th>\n",
       "      <th>hsdrop</th>\n",
       "      <th>hsgrad</th>\n",
       "      <th>colsome</th>\n",
       "      <th>colgrad</th>\n",
       "      <th>black</th>\n",
       "      <th>hispanic</th>\n",
       "      <th>female</th>\n",
       "    </tr>\n",
       "  </thead>\n",
       "  <tbody>\n",
       "    <tr>\n",
       "      <th>1</th>\n",
       "      <td>1</td>\n",
       "      <td>1</td>\n",
       "      <td>41</td>\n",
       "      <td>0</td>\n",
       "      <td>1</td>\n",
       "      <td>0</td>\n",
       "      <td>0</td>\n",
       "      <td>0</td>\n",
       "      <td>0</td>\n",
       "      <td>1</td>\n",
       "    </tr>\n",
       "    <tr>\n",
       "      <th>2</th>\n",
       "      <td>1</td>\n",
       "      <td>1</td>\n",
       "      <td>44</td>\n",
       "      <td>0</td>\n",
       "      <td>0</td>\n",
       "      <td>1</td>\n",
       "      <td>0</td>\n",
       "      <td>0</td>\n",
       "      <td>0</td>\n",
       "      <td>1</td>\n",
       "    </tr>\n",
       "    <tr>\n",
       "      <th>3</th>\n",
       "      <td>0</td>\n",
       "      <td>0</td>\n",
       "      <td>19</td>\n",
       "      <td>0</td>\n",
       "      <td>0</td>\n",
       "      <td>1</td>\n",
       "      <td>0</td>\n",
       "      <td>0</td>\n",
       "      <td>0</td>\n",
       "      <td>1</td>\n",
       "    </tr>\n",
       "    <tr>\n",
       "      <th>4</th>\n",
       "      <td>1</td>\n",
       "      <td>0</td>\n",
       "      <td>29</td>\n",
       "      <td>0</td>\n",
       "      <td>1</td>\n",
       "      <td>0</td>\n",
       "      <td>0</td>\n",
       "      <td>0</td>\n",
       "      <td>0</td>\n",
       "      <td>1</td>\n",
       "    </tr>\n",
       "    <tr>\n",
       "      <th>5</th>\n",
       "      <td>0</td>\n",
       "      <td>1</td>\n",
       "      <td>28</td>\n",
       "      <td>0</td>\n",
       "      <td>0</td>\n",
       "      <td>1</td>\n",
       "      <td>0</td>\n",
       "      <td>0</td>\n",
       "      <td>0</td>\n",
       "      <td>1</td>\n",
       "    </tr>\n",
       "  </tbody>\n",
       "</table>\n",
       "</div>"
      ],
      "text/plain": [
       "   smoker  smkban  age  hsdrop  hsgrad  colsome  colgrad  black  hispanic  \\\n",
       "1       1       1   41       0       1        0        0      0         0   \n",
       "2       1       1   44       0       0        1        0      0         0   \n",
       "3       0       0   19       0       0        1        0      0         0   \n",
       "4       1       0   29       0       1        0        0      0         0   \n",
       "5       0       1   28       0       0        1        0      0         0   \n",
       "\n",
       "   female  \n",
       "1       1  \n",
       "2       1  \n",
       "3       1  \n",
       "4       1  \n",
       "5       1  "
      ]
     },
     "execution_count": 3,
     "metadata": {},
     "output_type": "execute_result"
    }
   ],
   "source": [
    "data.head()"
   ]
  },
  {
   "cell_type": "code",
   "execution_count": 4,
   "metadata": {},
   "outputs": [
    {
     "name": "stdout",
     "output_type": "stream",
     "text": [
      "Condition number: 311.56108397256776\n"
     ]
    }
   ],
   "source": [
    "# Create age squared variable\n",
    "data['age_sq'] = data['age'] ** 2\n",
    "\n",
    "# Create dummy variable for constant term\n",
    "data['const'] = 1\n",
    "\n",
    "# Define independent variables\n",
    "X = ['const', 'smkban', 'female', 'age', 'hsdrop', 'hsgrad', 'colsome', 'colgrad', 'black', 'hispanic']\n",
    "# Calculate condition number\n",
    "X_matrix = data[X].values\n",
    "cond_num = np.linalg.cond(X_matrix)\n",
    "print(f\"Condition number: {cond_num}\")"
   ]
  },
  {
   "cell_type": "code",
   "execution_count": 5,
   "metadata": {},
   "outputs": [],
   "source": [
    "# Define dependent and independent variables\n",
    "y = data['smoker']\n",
    "X = data[['const', 'smkban', 'female', 'age', 'hsdrop', 'hsgrad', 'colsome', 'colgrad', 'black', 'hispanic']]\n"
   ]
  },
  {
   "cell_type": "code",
   "execution_count": 6,
   "metadata": {},
   "outputs": [],
   "source": [
    "# Fit the model\n",
    "model = GMELogit()\n",
    "model.fit(X, y)"
   ]
  },
  {
   "cell_type": "code",
   "execution_count": 7,
   "metadata": {},
   "outputs": [
    {
     "name": "stdout",
     "output_type": "stream",
     "text": [
      "Generalized Maximum Entropy (Logit)\n",
      "Number of obs: 10000\n",
      "Degrees of freedom: 10\n",
      "Entropy for probs: 5251.1\n",
      "Normalized entropy: 0.7576\n",
      "Ent. ratio stat: 3360.8\n",
      "P Val for LR: 0.0000\n",
      "Criterion F (log L) = -5251.0949\n",
      "Pseudo R2: 0.2424\n",
      "\n",
      "Coefficients:\n",
      "X0: -1.6968 (std err: 0.2005, t-stat: -8.4632, p-value: 0.0000)\n",
      "X1: -0.2507 (std err: 0.0531, t-stat: -4.7187, p-value: 0.0000)\n",
      "X2: -0.1887 (std err: 0.0524, t-stat: -3.5990, p-value: 0.0006)\n",
      "X3: -0.0075 (std err: 0.0019, t-stat: -3.9065, p-value: 0.0002)\n",
      "X4: 1.9311 (std err: 0.1924, t-stat: 10.0350, p-value: 0.0000)\n",
      "X5: 1.5233 (std err: 0.1895, t-stat: 8.0379, p-value: 0.0000)\n",
      "X6: 1.1801 (std err: 0.1917, t-stat: 6.1570, p-value: 0.0000)\n",
      "X7: 0.4248 (std err: 0.1853, t-stat: 2.2925, p-value: 0.0437)\n",
      "X8: -0.1495 (std err: 0.0844, t-stat: -1.7700, p-value: 0.1535)\n",
      "X9: -0.5848 (std err: 0.0781, t-stat: -7.4922, p-value: 0.0000)\n"
     ]
    }
   ],
   "source": [
    "model.summary()"
   ]
  },
  {
   "cell_type": "code",
   "execution_count": 12,
   "metadata": {},
   "outputs": [],
   "source": [
    "# Calculate probability for Mr. A\n",
    "test_predictions_df = pd.DataFrame({\n",
    "    'const': [1,1],\n",
    "    'smkban': [1,0],\n",
    "    'female': [0,0],\n",
    "    'age': [20, 20],\n",
    "    'hsdrop': [1, 1],\n",
    "    'hsgrad': [0, 0],\n",
    "    'colsome': [0, 0],\n",
    "    'colgrad': [0, 0],\n",
    "    'black': [0, 0],\n",
    "    'hispanic': [0, 0]\n",
    "})"
   ]
  },
  {
   "cell_type": "code",
   "execution_count": 13,
   "metadata": {},
   "outputs": [
    {
     "data": {
      "text/plain": [
       "0    0.458729\n",
       "1    0.521306\n",
       "dtype: float64"
      ]
     },
     "execution_count": 13,
     "metadata": {},
     "output_type": "execute_result"
    }
   ],
   "source": [
    "model.predict_proba(test_predictions_df)"
   ]
  }
 ],
 "metadata": {
  "kernelspec": {
   "display_name": "base",
   "language": "python",
   "name": "python3"
  },
  "language_info": {
   "codemirror_mode": {
    "name": "ipython",
    "version": 3
   },
   "file_extension": ".py",
   "mimetype": "text/x-python",
   "name": "python",
   "nbconvert_exporter": "python",
   "pygments_lexer": "ipython3",
   "version": "3.9.19"
  }
 },
 "nbformat": 4,
 "nbformat_minor": 2
}
