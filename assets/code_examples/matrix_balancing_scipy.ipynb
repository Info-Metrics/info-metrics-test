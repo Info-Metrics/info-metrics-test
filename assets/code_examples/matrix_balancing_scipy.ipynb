{
 "cells": [
  {
   "cell_type": "code",
   "execution_count": 1,
   "metadata": {},
   "outputs": [],
   "source": [
    "import numpy as np\n",
    "import pandas as pd\n",
    "from scipy.optimize import minimize\n"
   ]
  },
  {
   "cell_type": "code",
   "execution_count": 2,
   "metadata": {},
   "outputs": [],
   "source": [
    "\n",
    "# IO flows in 1977\n",
    "q0 = pd.read_csv('../../data/io1977.csv')\n",
    "q0.index = q0.columns # index and columns are the same\n",
    "\n",
    "q = pd.read_csv('../../data/io1982.csv')\n",
    "q.index = q.columns\n"
   ]
  },
  {
   "cell_type": "code",
   "execution_count": 3,
   "metadata": {},
   "outputs": [],
   "source": [
    "\n",
    "# Convert data and prior flows to coefficients/probabilities\n",
    "\n",
    "# row totals of data\n",
    "Y = q.sum(1)\n",
    "# column totals of data\n",
    "X = q.sum(0)\n"
   ]
  },
  {
   "cell_type": "code",
   "execution_count": 4,
   "metadata": {},
   "outputs": [],
   "source": [
    "\n",
    "# prior coefficients, columns add to 1\n",
    "q1 = q0 / q0.sum(1)\n",
    "\n",
    "q0_uniform = np.ones_like(q1) / len(q1)\n"
   ]
  },
  {
   "cell_type": "code",
   "execution_count": 5,
   "metadata": {},
   "outputs": [],
   "source": [
    "# Python: Modified entropy function\n",
    "def entropy(prob, prior):\n",
    "    epsilon = 1e-12\n",
    "    return np.sum(prob * np.log((prob + epsilon) / (prior + epsilon)))\n"
   ]
  },
  {
   "cell_type": "code",
   "execution_count": 6,
   "metadata": {},
   "outputs": [],
   "source": [
    "def classical_ce(a0, prob0, X, Y):\n",
    "    \"\"\"\n",
    "    The pure Cross Entropy case\n",
    "    \"\"\"\n",
    "    k = a0.shape[0]\n",
    "    \n",
    "    def objective(params):\n",
    "        a = np.array(params).reshape((k, k))\n",
    "        return entropy(a, prob0)\n",
    "    \n",
    "    def constraint_row(params):\n",
    "        a = np.array(params).reshape((k, k))\n",
    "        return np.dot(a, X) - Y  # Sum of products of coefficients and column totals equals row totals\n",
    "\n",
    "    def constraint_col(params):\n",
    "        a = np.array(params).reshape((k, k))\n",
    "        return np.sum(a, axis=0) - 1  # Sum of coefficients in each column equals 1\n",
    "\n",
    "    \n",
    "    constraints = [\n",
    "        {'type': 'eq', 'fun': constraint_row},\n",
    "        {'type': 'eq', 'fun': constraint_col}\n",
    "    ]\n",
    "\n",
    "    bounds = [(0, 1) for _ in range(k*k)]\n",
    "    \n",
    "    result = minimize(objective, a0.flatten(), method='SLSQP', \n",
    "                      bounds=bounds, constraints=constraints, \n",
    "                      options={'ftol': 1e-12, 'maxiter': 1000})\n",
    "    final_a = result.x.reshape((k, k))    \n",
    "    return final_a, result"
   ]
  },
  {
   "cell_type": "code",
   "execution_count": 7,
   "metadata": {},
   "outputs": [],
   "source": [
    "\n",
    "# Initialize\n",
    "a_init = np.ones((11, 11)) / 11\n",
    "uniform = a_init.copy()\n",
    "\n",
    "# Solve\n",
    "final_a, result = classical_ce(a_init, q0_uniform, X, Y)\n"
   ]
  },
  {
   "cell_type": "code",
   "execution_count": 8,
   "metadata": {},
   "outputs": [
    {
     "name": "stdout",
     "output_type": "stream",
     "text": [
      " message: Optimization terminated successfully\n",
      " success: True\n",
      "  status: 0\n",
      "     fun: 3.961099906704762\n",
      "       x: [ 8.146e-02  6.224e-02 ...  4.201e-01  4.242e-01]\n",
      "     nit: 625\n",
      "     jac: [ 8.903e-01  6.211e-01 ...  2.531e+00  2.540e+00]\n",
      "    nfev: 79684\n",
      "    njev: 625\n",
      "       FOODG     FEEDG   OTHERAG  RESOURCE  CONSTRUCT      COWS   FOODMFG  \\\n",
      "0   0.081465  0.062236  0.059057  0.001174   0.000801  0.041289  0.004967   \n",
      "1   0.087819  0.080495  0.078462  0.016540   0.014115  0.069758  0.030356   \n",
      "2   0.088246  0.081761  0.080197  0.019471   0.016797  0.072037  0.033935   \n",
      "3   0.093051  0.096954  0.099734  0.112843   0.112154  0.101986  0.113060   \n",
      "4   0.093253  0.097232  0.101347  0.115721   0.114984  0.102532  0.114867   \n",
      "5   0.089954  0.087119  0.086529  0.037389   0.033974  0.081953  0.053039   \n",
      "6   0.092350  0.095595  0.095747  0.097534   0.095987  0.099162  0.102291   \n",
      "7   0.093152  0.098378  0.098793  0.130379   0.131291  0.105002  0.124645   \n",
      "8   0.091762  0.098489  0.085097  0.131888   0.134259  0.105324  0.125566   \n",
      "9   0.093757  0.100872  0.100696  0.168374   0.173409  0.110474  0.148569   \n",
      "10  0.095192  0.100870  0.114341  0.168687   0.172229  0.110482  0.148706   \n",
      "\n",
      "    INTERMED  FINALMFG      SERVICES        VALADD  \n",
      "0   0.000034  0.000023  2.033339e-07  2.053981e-08  \n",
      "1   0.003610  0.002999  1.114631e-09  1.032659e-09  \n",
      "2   0.004802  0.004046  1.107530e-09  8.502459e-11  \n",
      "3   0.103442  0.101910  1.761255e-02  1.728531e-02  \n",
      "4   0.107883  0.106498  2.134261e-02  2.093446e-02  \n",
      "5   0.015012  0.013410  2.677116e-06  2.646048e-06  \n",
      "6   0.080249  0.077943  5.570046e-03  5.431791e-03  \n",
      "7   0.132957  0.132698  5.501829e-02  5.432080e-02  \n",
      "8   0.135397  0.135217  5.983007e-02  5.907887e-02  \n",
      "9   0.208049  0.212319  4.205174e-01  4.187033e-01  \n",
      "10  0.208564  0.212936  4.201062e-01  4.242428e-01  \n"
     ]
    },
    {
     "name": "stderr",
     "output_type": "stream",
     "text": [
      "/var/folders/v2/2g59sj7s7qbcgl_0l5zkx1gm0000gn/T/ipykernel_85972/864896581.py:4: UserWarning: Pandas doesn't allow columns to be created via a new attribute name - see https://pandas.pydata.org/pandas-docs/stable/indexing.html#attribute-access\n",
      "  final_a.rows = q.columns\n"
     ]
    }
   ],
   "source": [
    "\n",
    "k = q.shape[0]\n",
    "\n",
    "final_a = pd.DataFrame(final_a)\n",
    "final_a.rows = q.columns\n",
    "final_a.columns = q.columns\n",
    "# Print results\n",
    "print(result)\n",
    "print(final_a)\n",
    "# print(\"Number of iterations:\", len(monitor))"
   ]
  },
  {
   "cell_type": "code",
   "execution_count": 9,
   "metadata": {},
   "outputs": [
    {
     "name": "stdout",
     "output_type": "stream",
     "text": [
      "[[6.03304286e-02 1.10493709e-05 1.11440055e-05 7.60103711e-06\n",
      "  1.21263342e-05 2.17782868e-03 1.22097066e-02 1.08124666e-05\n",
      "  9.07689870e-06 3.43700917e-05 1.40347579e-03]\n",
      " [2.35957843e-05 3.25700885e-02 2.72493037e-05 1.79876878e-05\n",
      "  2.47406877e-05 2.60747715e-01 1.78832845e-02 8.74136342e-05\n",
      "  2.04297942e-05 5.21270718e-04 3.10493619e-03]\n",
      " [1.01834437e-04 6.53305630e-03 3.44293091e-02 4.05899682e-04\n",
      "  3.11195163e-04 4.62381360e-04 5.29159362e-02 9.70215766e-04\n",
      "  8.54241367e-03 6.51164867e-04 8.38602303e-03]\n",
      " [6.98969402e-02 6.35778605e-02 3.39234782e-02 4.08454208e-01\n",
      "  3.63948099e-02 1.04995018e-02 1.30983208e-02 5.06921687e-02\n",
      "  1.05766583e-02 2.69554923e-02 4.05293009e-03]\n",
      " [1.17624098e-02 1.17519320e-02 9.13447842e-03 2.22700244e-02\n",
      "  1.14816947e-03 6.23232275e-03 4.56976504e-03 8.91503554e-03\n",
      "  4.09961907e-03 2.38369658e-02 1.03927370e-01]\n",
      " [2.21328102e-02 3.64690514e-02 8.75653320e-03 7.52589776e-05\n",
      "  6.14469281e-05 1.70287774e-01 1.94217378e-01 1.74514211e-04\n",
      "  3.83421575e-04 7.28941285e-04 1.82079487e-03]\n",
      " [3.42227578e-04 4.63039695e-04 2.05733697e-04 6.69455775e-04\n",
      "  1.78672951e-04 2.11722761e-01 1.71981761e-01 2.73870408e-03\n",
      "  1.91114013e-03 1.50098935e-02 5.77983004e-02]\n",
      " [1.21778641e-01 1.59763836e-01 7.93025492e-02 5.83915800e-02\n",
      "  2.89678231e-01 2.13089598e-02 7.28483596e-02 3.34887936e-01\n",
      "  1.77815367e-01 1.55422939e-02 6.81398152e-02]\n",
      " [1.07317530e-02 1.53989310e-02 1.31015263e-02 1.12684929e-02\n",
      "  5.62766358e-02 6.93273333e-03 3.77463612e-02 4.23538286e-02\n",
      "  2.73534724e-01 2.35516781e-02 1.42253893e-01]\n",
      " [2.78246172e-01 2.57181696e-01 2.03874925e-01 1.27698195e-01\n",
      "  1.93666042e-01 1.56099462e-01 1.53605380e-01 1.58706693e-01\n",
      "  1.32737804e-01 1.95666497e-01 6.09112425e-01]\n",
      " [4.24653152e-01 4.16279460e-01 6.17233080e-01 3.70741296e-01\n",
      "  4.22247930e-01 1.53528559e-01 2.68923747e-01 4.00462679e-01\n",
      "  3.90369345e-01 6.97501472e-01 0.00000000e+00]]\n"
     ]
    }
   ],
   "source": [
    "print(q1.values)"
   ]
  },
  {
   "cell_type": "code",
   "execution_count": null,
   "metadata": {},
   "outputs": [],
   "source": []
  }
 ],
 "metadata": {
  "kernelspec": {
   "display_name": "base",
   "language": "python",
   "name": "python3"
  },
  "language_info": {
   "codemirror_mode": {
    "name": "ipython",
    "version": 3
   },
   "file_extension": ".py",
   "mimetype": "text/x-python",
   "name": "python",
   "nbconvert_exporter": "python",
   "pygments_lexer": "ipython3",
   "version": "3.9.19"
  }
 },
 "nbformat": 4,
 "nbformat_minor": 2
}
