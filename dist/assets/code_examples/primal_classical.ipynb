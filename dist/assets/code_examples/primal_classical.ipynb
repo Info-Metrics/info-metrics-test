{
 "cells": [
  {
   "cell_type": "code",
   "execution_count": 1,
   "id": "ab7719da",
   "metadata": {
    "tags": []
   },
   "outputs": [],
   "source": [
    "# 3rd-party libraries\n",
    "import numpy as np\n",
    "from scipy.optimize import minimize\n",
    "from scipy.stats import entropy\n",
    "\n",
    "# Pretty-print numpy arrays\n",
    "def pprint(x):\n",
    "    print(np.array_str(x, precision=4, suppress_small=True))"
   ]
  },
  {
   "cell_type": "code",
   "execution_count": 2,
   "id": "aeda3cbc",
   "metadata": {
    "tags": []
   },
   "outputs": [
    {
     "name": "stdout",
     "output_type": "stream",
     "text": [
      "True Probabilities:\n",
      "[0.0724 0.0899 0.1373 0.1174 0.0981 0.1127 0.1052 0.0494 0.1161 0.1016]\n"
     ]
    }
   ],
   "source": [
    "# Create data\n",
    "np.random.seed(12345)\n",
    "\n",
    "k = 10 # Number of parameters to be estimated\n",
    "t = 8 # Number of observations\n",
    "\n",
    "# Create true, unknown probabilities\n",
    "\n",
    "alpha = np.repeat(k,k)\n",
    "ptrue = np.random.dirichlet(alpha)\n",
    "\n",
    "print(\"True Probabilities:\")\n",
    "pprint(ptrue)\n",
    "\n",
    "\n",
    "X = np.random.normal(size=(t,k))\n",
    "y = np.dot(X, ptrue)"
   ]
  },
  {
   "cell_type": "code",
   "execution_count": 3,
   "id": "b62d52f7",
   "metadata": {
    "tags": []
   },
   "outputs": [],
   "source": [
    "def classical_me_scipy(y, X, prob0=None):\n",
    "    k = X.shape[1]\n",
    "\n",
    "    # Objective function (to be minimized)\n",
    "    def objective(p):\n",
    "        return -entropy(p)  # negative because scipy.optimize.minimize performs minimization\n",
    "\n",
    "    # Constraints\n",
    "    cons = ({'type': 'eq', 'fun': lambda p: np.dot(X, p) - y},\n",
    "            {'type': 'eq', 'fun': lambda p: np.sum(p) - 1})\n",
    "\n",
    "    # Bounds\n",
    "    bounds = [(0, 1) for _ in range(k)]\n",
    "\n",
    "    # Initial guess\n",
    "    if prob0 is None:\n",
    "        prob0 = np.full(k, 1/k)\n",
    "\n",
    "    # Solving the problem\n",
    "    result = minimize(objective, prob0, method='SLSQP', bounds=bounds, constraints=cons) #sequential least squares programming algorithm\n",
    "\n",
    "    if not result.success:\n",
    "        raise ValueError(\"The problem was found to be infeasible\")\n",
    "\n",
    "    return result.x"
   ]
  },
  {
   "cell_type": "code",
   "execution_count": 4,
   "id": "df520fd7",
   "metadata": {},
   "outputs": [
    {
     "name": "stdout",
     "output_type": "stream",
     "text": [
      "[0.0893 0.08   0.1286 0.1114 0.0903 0.1268 0.1005 0.052  0.1134 0.1078]\n"
     ]
    }
   ],
   "source": [
    "# Classical ME results\n",
    "results_me_scipy = classical_me_scipy(y, X)\n",
    "pprint(results_me_scipy)"
   ]
  },
  {
   "cell_type": "code",
   "execution_count": 4,
   "id": "94979847",
   "metadata": {
    "tags": []
   },
   "outputs": [],
   "source": [
    "def classical_ce_scipy(prior, y, X, prob0=None):\n",
    "    k = X.shape[1]\n",
    "\n",
    "    # Objective function (to be minimized)\n",
    "    def objective(p):\n",
    "        return entropy(p, prior)\n",
    "\n",
    "    # Constraints and bounds are the same as ME\n",
    "    cons = ({'type': 'eq', 'fun': lambda p: np.dot(X, p) - y},\n",
    "            {'type': 'eq', 'fun': lambda p: np.sum(p) - 1})\n",
    "    bounds = [(0, 1) for _ in range(k)]\n",
    "\n",
    "    # Initial guess\n",
    "    if prob0 is None:\n",
    "        prob0 = np.full(k, 1/k)\n",
    "\n",
    "    # Solving the problem\n",
    "    result = minimize(objective, prob0, method='SLSQP', bounds=bounds, constraints=cons)\n",
    "\n",
    "    if not result.success:\n",
    "        raise ValueError(\"The problem was found to be infeasible\")\n",
    "\n",
    "    return result.x"
   ]
  },
  {
   "cell_type": "code",
   "execution_count": 5,
   "id": "2b20c76d",
   "metadata": {
    "tags": []
   },
   "outputs": [
    {
     "name": "stdout",
     "output_type": "stream",
     "text": [
      "[0.0893 0.08   0.1286 0.1114 0.0903 0.1268 0.1005 0.052  0.1134 0.1078]\n",
      "[0.1034 0.0717 0.1213 0.1063 0.0837 0.1386 0.0965 0.0543 0.1111 0.1131]\n",
      "[0.0725 0.0898 0.1372 0.1174 0.098  0.1128 0.1052 0.0494 0.1161 0.1016]\n"
     ]
    }
   ],
   "source": [
    "# minimize cross-entropy\n",
    "\n",
    "# Case A Uniform Priors CE = ME\n",
    "prior1 = np.repeat(1/k, k)\n",
    "results_ce1 = classical_ce_scipy(prior1, y, X)\n",
    "pprint(results_ce1)\n",
    "\n",
    "# Case B Random Incorrect Priors\n",
    "prior2 = np.array([0.11, 0.10, 0.09, 0.07, 0.14, 0.13, 0.09, 0.11, 0.07, 0.09])\n",
    "results_ce2 = classical_ce_scipy(prior2, y, X)\n",
    "pprint(results_ce2)\n",
    "\n",
    "# Case C Correct priors\n",
    "prior3 = ptrue\n",
    "results_ce3 = classical_ce_scipy(prior3, y, X)\n",
    "pprint(results_ce3)"
   ]
  },
  {
   "cell_type": "code",
   "execution_count": null,
   "id": "0c8099ed-45f5-471d-b02a-bbbd77947ca0",
   "metadata": {},
   "outputs": [],
   "source": []
  }
 ],
 "metadata": {
  "kernelspec": {
   "display_name": "Python 3 (ipykernel)",
   "language": "python",
   "name": "python3"
  },
  "language_info": {
   "codemirror_mode": {
    "name": "ipython",
    "version": 3
   },
   "file_extension": ".py",
   "mimetype": "text/x-python",
   "name": "python",
   "nbconvert_exporter": "python",
   "pygments_lexer": "ipython3",
   "version": "3.11.4"
  }
 },
 "nbformat": 4,
 "nbformat_minor": 5
}
